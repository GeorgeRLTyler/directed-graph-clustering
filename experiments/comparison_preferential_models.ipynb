{
 "cells": [
  {
   "cell_type": "code",
   "execution_count": 3,
   "metadata": {},
   "outputs": [],
   "source": [
    "import sys\n",
    "sys.path.append('../')\n",
    "import numpy as np\n",
    "import pandas as pd\n",
    "import scipy as sp\n",
    "import seaborn as sns\n",
    "import matplotlib.pyplot as plt\n",
    "from sklearn.cluster import KMeans\n",
    "from sklearn.metrics import adjusted_rand_score\n",
    "from directed_graph_generators.preferential_attachment_model import PreferentialAttachmentModel\n",
    "from directed_graph_generators.directed_stochastic_block_model import DirectedStochasticBlockModel\n",
    "from clustering_algorithms.exponential_clustering import Exponential_Clustering, Exponential_Clustering_no_evecs\n",
    "from clustering_algorithms.zanetti_clustering import DSBM_Clustering_Zanetti"
   ]
  },
  {
   "cell_type": "code",
   "execution_count": null,
   "metadata": {},
   "outputs": [],
   "source": [
    "# looping through different parameters for Preferential Attachment Model and clustering using Exponential Clustering and Zanetti Clustering\n",
    "# and comparing the results\n",
    "# for each parameter, we will plot the ARI score for each clustering algorithm\n",
    "for m in [2,4,8]:\n",
    "    for t_0 in [10,20,30]:\n",
    "        for t_max in [100,200,300]:\n",
    "            for community_affinities in [np.array([[0,1,0],[0,0,1],[1,0,0]]),np.array([[1,0,0],[0,1,0],[0,0,1]]),np.array([[0,1,1],[0,0,1],[0,0,1]])]:\n",
    "                k = len(community_affinities)\n",
    "                pam = PreferentialAttachmentModel(m=m,k=k,t_0=t_0,t_max=t_max,community_affinities=community_affinities)\n",
    "                \n",
    "                A = pam.adjacency_matrix\n",
    "                true_clusters = pam._vertex_communities\n",
    "                print(len(true_clusters))\n",
    "                # Exponential Clustering\n",
    "                ec_no_evecs_clusters, cos_A = Exponential_Clustering_no_evecs(A,K=k,t=10)\n",
    "                print(len(ec_no_evecs_clusters))\n",
    "                ec_no_evecs_ari = adjusted_rand_score(true_clusters,ec_no_evecs_clusters)\n",
    "                # Zanetti Clustering\n",
    "                zc_clusters,_ = DSBM_Clustering_Zanetti(A,K=k,l=1,method='adjacency',normalize=True)\n",
    "                zc_ari = adjusted_rand_score(true_clusters,zc_clusters)\n",
    "                # plot the ARI scores\n",
    "                plt.bar([1,2],[ec_no_evecs_ari,zc_ari])\n",
    "                plt.xticks([1,2],['Exponential Clustering','Zanetti Clustering'])\n",
    "                plt.title('ARI Scores for m={}, k={}, t_0={}, t_max={}, community_affinities={}'.format(m,k,t_0,t_max,community_affinities))\n",
    "                plt.show()"
   ]
  },
  {
   "cell_type": "code",
   "execution_count": null,
   "metadata": {},
   "outputs": [],
   "source": [
    "pam = PreferentialAttachmentModel(m=8,k=3,t_0=10,t_max=100,community_affinities=np.array([[0,1,0],[0,0,1],[1,0,0]]))"
   ]
  },
  {
   "cell_type": "code",
   "execution_count": null,
   "metadata": {},
   "outputs": [],
   "source": [
    "proj_evec_clusters, proj_evec_matrix = DSBM_Clustering_Zanetti(A,3,1)\n",
    "# take ARI\n",
    "ARI_proj_evec = adjusted_rand_score(true_clusters, proj_evec_clusters)\n",
    "print(\"ARI for projected eigenvector clustering: \", ARI_proj_evec)\n"
   ]
  },
  {
   "cell_type": "code",
   "execution_count": null,
   "metadata": {},
   "outputs": [],
   "source": [
    "#repeating experiment for exponential clustering\n",
    "exp_clusters, exp_matrix = Exponential_Clustering_no_evecs(pam.adjacency_matrix,K=3,t=5)\n",
    "# take ARI\n",
    "ARI_exp = adjusted_rand_score(true_clusters, exp_clusters)\n",
    "print(\"ARI for exponential clustering: \", ARI_exp)"
   ]
  }
 ],
 "metadata": {
  "kernelspec": {
   "display_name": "Python 3",
   "language": "python",
   "name": "python3"
  },
  "language_info": {
   "codemirror_mode": {
    "name": "ipython",
    "version": 3
   },
   "file_extension": ".py",
   "mimetype": "text/x-python",
   "name": "python",
   "nbconvert_exporter": "python",
   "pygments_lexer": "ipython3",
   "version": "3.10.6"
  },
  "orig_nbformat": 4,
  "vscode": {
   "interpreter": {
    "hash": "916dbcbb3f70747c44a77c7bcd40155683ae19c65e1c03b4aa3499c5328201f1"
   }
  }
 },
 "nbformat": 4,
 "nbformat_minor": 2
}
