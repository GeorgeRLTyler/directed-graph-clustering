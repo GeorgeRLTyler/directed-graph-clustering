{
 "cells": [
  {
   "cell_type": "code",
   "execution_count": 1,
   "metadata": {},
   "outputs": [],
   "source": [
    "import sys\n",
    "sys.path.append('../')\n",
    "import numpy as np\n",
    "import pandas as pd\n",
    "import matplotlib.pyplot as plt\n",
    "import seaborn as sns\n",
    "\n",
    "from directed_graph_generators.directed_stochastic_block_model import DirectedStochasticBlockModel\n",
    "\n",
    "from helpers.wasserstein_distance import wasserstein_distance"
   ]
  },
  {
   "cell_type": "code",
   "execution_count": 2,
   "metadata": {},
   "outputs": [],
   "source": [
    "#create a directed stochastic block model\n",
    "n = 150\n",
    "p = 0.5\n",
    "q = 0.5\n",
    "#3 x 3 block model\n",
    "F = [[0.5,0.8,0.2],[0.2,0.5,0.8],[0.8,0.2,0.5]]\n",
    "dsbm = DirectedStochasticBlockModel(k=3, N=n, p=p, q=q, F=F)\n",
    "A = dsbm.adjacency_matrix"
   ]
  },
  {
   "cell_type": "code",
   "execution_count": 3,
   "metadata": {},
   "outputs": [],
   "source": [
    "# for each pair of nodes, compute the shortest distance between them in the graph and store in array D\n",
    "def shortest_path_length(A):\n",
    "    n = A.shape[0]\n",
    "    D = np.zeros((n,n))\n",
    "    for i in range(n):\n",
    "        for j in range(n):\n",
    "            D[i,j] = np.inf\n",
    "            if i == j:\n",
    "                D[i,j] = 0\n",
    "            if A[i,j] == 1:\n",
    "                D[i,j] = 1\n",
    "    for k in range(n):\n",
    "        for i in range(n):\n",
    "            for j in range(n):\n",
    "                if D[i,j] > D[i,k] + D[k,j]:\n",
    "                    D[i,j] = D[i,k] + D[k,j]\n",
    "    return D\n",
    "\n",
    "D = shortest_path_length(A)"
   ]
  },
  {
   "cell_type": "code",
   "execution_count": 4,
   "metadata": {},
   "outputs": [],
   "source": [
    "# with t =3, compute random walk distributions for P = D^(-1)A for each node\n",
    "Deg = np.diag(np.sum(A, axis=1))\n",
    "P = np.linalg.inv(Deg) @ A\n",
    "P = np.linalg.matrix_power(P, 3)\n",
    "random_walks = []\n",
    "for i in range(n):\n",
    "    random_walks.append(P[i,:].reshape(-1,1))"
   ]
  },
  {
   "cell_type": "code",
   "execution_count": 5,
   "metadata": {},
   "outputs": [],
   "source": [
    "wasserstein_distances = np.zeros((n,n))\n",
    "for i in range(n):\n",
    "    for j in range(i,n):\n",
    "        if i != j:\n",
    "            wasserstein_distances[i,j] = wasserstein_distance(random_walks[i], random_walks[j], D)\n",
    "            wasserstein_distances[i,j] = wasserstein_distances[i,j]"
   ]
  },
  {
   "cell_type": "code",
   "execution_count": 7,
   "metadata": {},
   "outputs": [
    {
     "data": {
      "text/plain": [
       "array([[0.        , 0.01923218, 0.02781231, ..., 0.        , 0.        ,\n",
       "        0.        ],\n",
       "       [0.        , 0.        , 0.02440416, ..., 0.        , 0.        ,\n",
       "        0.        ],\n",
       "       [0.        , 0.        , 0.        , ..., 0.        , 0.        ,\n",
       "        0.        ],\n",
       "       ...,\n",
       "       [0.        , 0.        , 0.        , ..., 0.        , 0.        ,\n",
       "        0.        ],\n",
       "       [0.        , 0.        , 0.        , ..., 0.        , 0.        ,\n",
       "        0.        ],\n",
       "       [0.        , 0.        , 0.        , ..., 0.        , 0.        ,\n",
       "        0.        ]])"
      ]
     },
     "execution_count": 7,
     "metadata": {},
     "output_type": "execute_result"
    }
   ],
   "source": []
  }
 ],
 "metadata": {
  "kernelspec": {
   "display_name": "Python 3",
   "language": "python",
   "name": "python3"
  },
  "language_info": {
   "codemirror_mode": {
    "name": "ipython",
    "version": 3
   },
   "file_extension": ".py",
   "mimetype": "text/x-python",
   "name": "python",
   "nbconvert_exporter": "python",
   "pygments_lexer": "ipython3",
   "version": "3.10.6"
  },
  "orig_nbformat": 4,
  "vscode": {
   "interpreter": {
    "hash": "916dbcbb3f70747c44a77c7bcd40155683ae19c65e1c03b4aa3499c5328201f1"
   }
  }
 },
 "nbformat": 4,
 "nbformat_minor": 2
}
