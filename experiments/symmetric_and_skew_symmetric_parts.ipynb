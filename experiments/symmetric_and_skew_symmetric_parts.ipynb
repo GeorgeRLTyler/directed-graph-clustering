{
 "cells": [
  {
   "cell_type": "code",
   "execution_count": 1,
   "metadata": {},
   "outputs": [],
   "source": [
    "import sys\n",
    "sys.path.append('../')\n",
    "import numpy as np\n",
    "import pandas as pd\n",
    "import matplotlib.pyplot as plt\n",
    "import seaborn as sns\n",
    "from directed_graph_generators.directed_stochastic_block_model import DirectedStochasticBlockModel"
   ]
  },
  {
   "cell_type": "code",
   "execution_count": 2,
   "metadata": {},
   "outputs": [],
   "source": [
    "#create a directed stochastic block model\n",
    "n = 100\n",
    "p = 0.5\n",
    "q = 0.5\n",
    "#3 x 3 block model\n",
    "F = [[0.5,1.0,1.0,1.0],\n",
    "     [0.0,0.5,1.0,0.5],\n",
    "     [0.0,0.0,0.5,1.0],\n",
    "     [0.0,0.5,0.0,0.5]]\n",
    "dsbm = DirectedStochasticBlockModel(k=4, N=n, p=p, q=q, F=F)\n",
    "A = dsbm.adjacency_matrix"
   ]
  },
  {
   "cell_type": "code",
   "execution_count": 3,
   "metadata": {},
   "outputs": [
    {
     "data": {
      "text/plain": [
       "<AxesSubplot: >"
      ]
     },
     "execution_count": 3,
     "metadata": {},
     "output_type": "execute_result"
    },
    {
     "data": {
      "image/png": "[encoded data removed]",
      "text/plain": [
       "<Figure size 640x480 with 2 Axes>"
      ]
     },
     "metadata": {},
     "output_type": "display_data"
    }
   ],
   "source": [
    "sns.heatmap(F)"
   ]
  },
  {
   "cell_type": "code",
   "execution_count": 9,
   "metadata": {},
   "outputs": [
    {
     "name": "stdout",
     "output_type": "stream",
     "text": [
      "0.6323612499456734\n"
     ]
    }
   ],
   "source": [
    "#normalizing A first\n",
    "D_inv = np.zeros(A.shape)\n",
    "np.fill_diagonal(D_inv,[1/np.sqrt(d) for d in np.sum(A, axis=1) if d != 0])\n",
    "A_normalized = D_inv @ A @ D_inv\n",
    "\n",
    "#Taking symmetric and skew-symmetric parts\n",
    "A_skew = A_normalized - A_normalized.T\n",
    "A_sym = A_normalized + A_normalized.T\n",
    "\n",
    "# taking largest eigenvector of A_sym\n",
    "eig_vals_sym, eig_vecs_sym = np.linalg.eig(A_sym)\n",
    "idx = np.abs(eig_vals_sym).argsort()[::-1]\n",
    "eig_vec_sym_first = eig_vecs_sym[:,idx][:,0:2]\n",
    "\n",
    "# taking largest eigenvector of A_skew\n",
    "eig_vals_skew, eig_vecs_skew = np.linalg.eig(A_skew)\n",
    "idx = np.abs(eig_vals_skew).argsort()[::-1]\n",
    "eig_vec_skew_first = eig_vecs_skew[:,idx][:,0:2]\n",
    "\n",
    "# concatenating the real and imaginary parts of the eigenvectors to get 4 vectors of length n\n",
    "eig_vecs = np.concatenate((np.real(eig_vec_sym_first),np.imag(eig_vec_sym_first),np.real(eig_vec_skew_first),np.imag(eig_vec_skew_first)),axis=1)\n",
    "\n",
    "# clustering the eigen vectors by kmeans\n",
    "from sklearn.cluster import KMeans\n",
    "kmeans = KMeans(n_clusters = 4, n_init=100).fit(eig_vecs)\n",
    "clusters = kmeans.labels_\n",
    "\n",
    "#computing ARI\n",
    "from sklearn.metrics.cluster import adjusted_rand_score\n",
    "print(adjusted_rand_score(dsbm.correct_clusters, clusters))\n",
    "\n",
    "\n"
   ]
  },
  {
   "cell_type": "code",
   "execution_count": 8,
   "metadata": {},
   "outputs": [
    {
     "name": "stdout",
     "output_type": "stream",
     "text": [
      "0.97305763367046\n"
     ]
    }
   ],
   "source": [
    "# using zanetti clustering\n",
    "from clustering_algorithms.zanetti_clustering import DSBM_Clustering_Zanetti\n",
    "clusters_zanetti, eig_vecs_projected = DSBM_Clustering_Zanetti(A,4,2,method='adjacency',normalize=True)\n",
    "print(adjusted_rand_score(dsbm.correct_clusters, clusters_zanetti))"
   ]
  },
  {
   "cell_type": "code",
   "execution_count": 10,
   "metadata": {},
   "outputs": [
    {
     "name": "stdout",
     "output_type": "stream",
     "text": [
      "0.37555860360161053\n",
      "0.6597489870540567\n"
     ]
    }
   ],
   "source": [
    "#repeating experiment above but with more noise on F\n",
    "F = [[0.5,0.8,0.8,0.8],\n",
    "     [0.2,0.5,0.8,0.5],\n",
    "     [0.2,0.2,0.5,0.8],\n",
    "     [0.2,0.5,0.2,0.5]]\n",
    "dsbm = DirectedStochasticBlockModel(k=4, N=n, p=p, q=q, F=F)\n",
    "A = dsbm.adjacency_matrix\n",
    "D_inv = np.zeros(A.shape)\n",
    "np.fill_diagonal(D_inv,[1/np.sqrt(d) for d in np.sum(A, axis=1) if d != 0])\n",
    "A_normalized = D_inv @ A @ D_inv\n",
    "\n",
    "#Taking symmetric and skew-symmetric parts\n",
    "A_skew = A_normalized - A_normalized.T\n",
    "A_sym = A_normalized + A_normalized.T\n",
    "\n",
    "# taking largest eigenvector of A_sym\n",
    "eig_vals_sym, eig_vecs_sym = np.linalg.eig(A_sym)\n",
    "idx = np.abs(eig_vals_sym).argsort()[::-1]\n",
    "eig_vec_sym_first = eig_vecs_sym[:,idx][:,0:2]\n",
    "\n",
    "# taking largest eigenvector of A_skew\n",
    "eig_vals_skew, eig_vecs_skew = np.linalg.eig(A_skew)\n",
    "idx = np.abs(eig_vals_skew).argsort()[::-1]\n",
    "eig_vec_skew_first = eig_vecs_skew[:,idx][:,0:2]\n",
    "\n",
    "# concatenating the real and imaginary parts of the eigenvectors to get 4 vectors of length n\n",
    "eig_vecs = np.concatenate((np.real(eig_vec_sym_first),np.imag(eig_vec_sym_first),np.real(eig_vec_skew_first),np.imag(eig_vec_skew_first)),axis=1)\n",
    "\n",
    "# clustering the eigen vectors by kmeans\n",
    "kmeans = KMeans(n_clusters = 4, n_init=100).fit(eig_vecs)\n",
    "clusters = kmeans.labels_\n",
    "\n",
    "#computing ARI\n",
    "print(adjusted_rand_score(dsbm.correct_clusters, clusters))\n",
    "\n",
    "# using zanetti clustering\n",
    "clusters_zanetti, eig_vecs_projected = DSBM_Clustering_Zanetti(A,4,2,method='adjacency',normalize=True)\n",
    "print(adjusted_rand_score(dsbm.correct_clusters, clusters_zanetti))\n"
   ]
  },
  {
   "cell_type": "code",
   "execution_count": null,
   "metadata": {},
   "outputs": [],
   "source": [
    "###~~~~WIP~~~~###\n",
    "\n",
    "# Repeating experiment but assembling the eigenvectors differently (spherical coordinates)\n",
    "eig_vals_sym, eig_vecs_sym = np.linalg.eig(A_sym)\n",
    "idx = np.abs(eig_vals_sym).argsort()[::-1]\n",
    "eig_vec_sym_first = eig_vecs_sym[:,idx][:,0:1]\n",
    "\n",
    "# taking largest eigenvector of A_skew\n",
    "eig_vals_skew, eig_vecs_skew = np.linalg.eig(A_skew)\n",
    "idx = np.abs(eig_vals_skew).argsort()[::-1]\n",
    "eig_vec_skew_first = eig_vecs_skew[:,idx][:,0:1]\n",
    "\n",
    "# taking angles of complex numbers in eigenvectors and constructing cartesian coordinates from them as though they were spherical coordinates\n",
    "eig_vec_sym_first_angles = np.angle(eig_vec_sym_first)\n",
    "\n",
    "# clustering the eigen vectors by kmeans\n",
    "kmeans = KMeans(n_clusters = 4, n_init=100).fit(eig_vecs)\n",
    "clusters = kmeans.labels_\n",
    "\n",
    "#computing ARI\n",
    "print(adjusted_rand_score(dsbm.correct_clusters, clusters))\n",
    "\n",
    "# using zanetti clustering\n",
    "clusters_zanetti, eig_vecs_projected = DSBM_Clustering_Zanetti(A,4,2,method='adjacency',normalize=True)\n",
    "print(adjusted_rand_score(dsbm.correct_clusters, clusters_zanetti))\n"
   ]
  },
  {
   "cell_type": "code",
   "execution_count": 46,
   "metadata": {},
   "outputs": [],
   "source": [
    "eig_vals, eig_vecs = np.linalg.eig(A)\n",
    "idx = np.abs(eig_vals).argsort()[::-1]\n",
    "eig_vecs = eig_vecs[:,idx]\n"
   ]
  },
  {
   "cell_type": "code",
   "execution_count": 21,
   "metadata": {},
   "outputs": [],
   "source": [
    "vec = eig_vecs[:,1]\n",
    "cos_theta = np.real(vec)\n",
    "sin = np.imag(vec)\n",
    "# constructing approximation to spherical coordinates\n",
    "x = cos*sin\n",
    "y =\n",
    "\n"
   ]
  },
  {
   "cell_type": "code",
   "execution_count": 53,
   "metadata": {},
   "outputs": [
    {
     "name": "stdout",
     "output_type": "stream",
     "text": [
      "0.28866076919438005\n"
     ]
    }
   ],
   "source": [
    "e_vals, e_vecs = np.linalg.eig(A)\n",
    "e_vecs = e_vecs[:,np.abs(e_vals).argsort()[::-1]]\n",
    "e_vec_sym_first = np.real(e_vecs[:,0])\n",
    "\n",
    "A_skew = A - A.T\n",
    "eig_vals_skew, eig_vecs_skew = np.linalg.eig(A_skew)\n",
    "idx = np.abs(eig_vals_skew).argsort()[::-1]\n",
    "eig_vec_skew_first = eig_vecs_skew[:,idx][:,0:1]\n",
    "\n",
    "eig_vecs = np.concatenate((eig_vec_sym_first,np.real(eig_vec_skew_first), np.imag(eig_vec_skew_first)),axis=1)\n",
    "\n",
    "kmeans = KMeans(n_clusters = 4, n_init=100).fit(eig_vecs)\n",
    "clusters = kmeans.labels_\n",
    "\n",
    "print(adjusted_rand_score(dsbm.correct_clusters, clusters))\n"
   ]
  },
  {
   "cell_type": "code",
   "execution_count": 104,
   "metadata": {},
   "outputs": [],
   "source": [
    "p  = 2\n",
    "# The problem we wish to solve is find matrix N that minimizes A * (N^T @ N) with the condition that the diagonal of N is all 1\n",
    "# We can do this by solving the following linear system\n",
    "# min (A_vec.T @ np.flatten(N^TN)) s.t. np.diag(N) = 1\n",
    "\n",
    "#flatten A to a vector\n",
    "A_vec = A.flatten()\n",
    "diag_condition = np.ones((A.shape[0]))\n",
    "\n",
    "A_eq = np.zeros((A.shape[0], A.shape[0]**2))\n",
    "\n",
    "for i in range(A.shape[0]):\n",
    "    A_eq[i, i*A.shape[0]] = 1.0\n",
    "\n",
    "from scipy.optimize import linprog\n",
    "res = linprog(A_vec, A_eq=A_eq, b_eq=diag_condition, bounds=(0.01,1))\n",
    "\n"
   ]
  },
  {
   "cell_type": "code",
   "execution_count": 116,
   "metadata": {},
   "outputs": [
    {
     "data": {
      "text/plain": [
       "<AxesSubplot: >"
      ]
     },
     "execution_count": 116,
     "metadata": {},
     "output_type": "execute_result"
    },
    {
     "data": {
      "image/png": "[encoded data removed]",
      "text/plain": [
       "<Figure size 640x480 with 2 Axes>"
      ]
     },
     "metadata": {},
     "output_type": "display_data"
    }
   ],
   "source": [
    "#reshaping the solution to a matrix\n",
    "x = res.x\n",
    "# reshape x so that i"
   ]
  },
  {
   "cell_type": "code",
   "execution_count": 148,
   "metadata": {},
   "outputs": [],
   "source": [
    "p  = 2\n",
    "# The problem we wish to solve is find matrix N that minimizes A * (N^T @ N) with the condition that the diagonal of N is all 1\n",
    "# We can do this by solving the following linear system\n",
    "# min (A_vec.T @ np.flatten(N^TN)) s.t. np.diag(N) = 1\n",
    "\n",
    "#flatten A to a vector\n",
    "A_copy = A.copy()\n",
    "np.fill_diagonal(A_copy,1000)\n",
    "A_vec = -A_copy.flatten()\n",
    "diag_condition = np.ones((A.shape[0]))\n",
    "\n",
    "A_eq = np.zeros((A.shape[0], A.shape[0]**2))\n",
    "\n",
    "for i in range(A.shape[0]):\n",
    "    A_eq[i, i*A.shape[0] + i] = 1.0\n",
    "\n",
    "from scipy.optimize import linprog\n",
    "res = linprog(A_vec, A_eq=A_eq, b_eq=diag_condition)"
   ]
  },
  {
   "cell_type": "code",
   "execution_count": 149,
   "metadata": {},
   "outputs": [
    {
     "ename": "AttributeError",
     "evalue": "'NoneType' object has no attribute 'reshape'",
     "output_type": "error",
     "traceback": [
      "\u001b[0;31m---------------------------------------------------------------------------\u001b[0m",
      "\u001b[0;31mAttributeError\u001b[0m                            Traceback (most recent call last)",
      "Cell \u001b[0;32mIn[149], line 1\u001b[0m\n\u001b[0;32m----> 1\u001b[0m res\u001b[39m.\u001b[39;49mx\u001b[39m.\u001b[39;49mreshape((A\u001b[39m.\u001b[39mshape[\u001b[39m0\u001b[39m],A\u001b[39m.\u001b[39mshape[\u001b[39m0\u001b[39m]))\n",
      "\u001b[0;31mAttributeError\u001b[0m: 'NoneType' object has no attribute 'reshape'"
     ]
    }
   ],
   "source": [
    "res.x.reshape((A.shape[0],A.shape[0]))"
   ]
  },
  {
   "cell_type": "code",
   "execution_count": 135,
   "metadata": {},
   "outputs": [
    {
     "data": {
      "text/plain": [
       "array([1000.,    1.,    1., ...,    0.,    0., 1000.])"
      ]
     },
     "execution_count": 135,
     "metadata": {},
     "output_type": "execute_result"
    }
   ],
   "source": [
    "A_vec"
   ]
  }
 ],
 "metadata": {
  "kernelspec": {
   "display_name": "Python 3",
   "language": "python",
   "name": "python3"
  },
  "language_info": {
   "codemirror_mode": {
    "name": "ipython",
    "version": 3
   },
   "file_extension": ".py",
   "mimetype": "text/x-python",
   "name": "python",
   "nbconvert_exporter": "python",
   "pygments_lexer": "ipython3",
   "version": "3.10.6"
  },
  "orig_nbformat": 4,
  "vscode": {
   "interpreter": {
    "hash": "916dbcbb3f70747c44a77c7bcd40155683ae19c65e1c03b4aa3499c5328201f1"
   }
  }
 },
 "nbformat": 4,
 "nbformat_minor": 2
}
