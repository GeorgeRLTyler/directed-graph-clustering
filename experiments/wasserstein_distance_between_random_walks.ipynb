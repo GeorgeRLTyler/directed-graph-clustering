{
 "cells": [
  {
   "cell_type": "code",
   "execution_count": null,
   "metadata": {},
   "outputs": [],
   "source": [
    "import sys\n",
    "sys.path.append('../')\n",
    "import numpy as np\n",
    "import pandas as pd\n",
    "import matplotlib.pyplot as plt\n",
    "import seaborn as sns\n",
    "\n",
    "from directed_graph_generators.directed_stochastic_block_model import DirectedStochasticBlockModel"
   ]
  },
  {
   "cell_type": "code",
   "execution_count": null,
   "metadata": {},
   "outputs": [],
   "source": [
    "#create a directed stochastic block model\n",
    "n = 100\n",
    "p = 0.5\n",
    "q = 0.5\n",
    "#3 x 3 block model\n",
    "F = [[0.5,0.8,0.2],[0.2,0.5,0.8],[0.8,0.2,0.5]]\n",
    "dsbm = DirectedStochasticBlockModel(block_sizes, block_probs, block_labels)"
   ]
  }
 ],
 "metadata": {
  "language_info": {
   "name": "python"
  },
  "orig_nbformat": 4
 },
 "nbformat": 4,
 "nbformat_minor": 2
}
