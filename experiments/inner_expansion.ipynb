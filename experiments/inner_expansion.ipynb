{
 "cells": [
  {
   "cell_type": "code",
   "execution_count": 1,
   "metadata": {},
   "outputs": [],
   "source": [
    "#imports\n",
    "import sys\n",
    "sys.path.append('../')\n",
    "import numpy as np\n",
    "import pandas as pd\n",
    "import scipy as sp\n",
    "import seaborn as sns\n",
    "import matplotlib.pyplot as plt\n",
    "import plotly.express as px\n",
    "import plotly.graph_objects as go\n",
    "\n",
    "from sklearn.cluster import KMeans\n",
    "from sklearn.metrics import adjusted_rand_score\n",
    "from helpers.products import Products\n",
    "from directed_graph_generators.directed_tree import DirectedTree\n",
    "from directed_graph_generators.lattice import DirectedLattice\n",
    "from directed_graph_generators.directed_stochastic_block_model import DirectedStochasticBlockModel\n",
    "from directed_graph_generators.directed_erdos_renyi import DirectedErdosRenyi\n",
    "\n",
    "from clustering_algorithms.exponential_clustering import Exponential_Clustering, Exponential_Clustering_no_evecs\n",
    "from clustering_algorithms.zanetti_clustering import DSBM_Clustering_Zanetti\n",
    "\n",
    "from helpers.get_hermitian_adjacency_matrix import get_hermitian_adjacency_matrix\n",
    "from helpers.deduce_metagraph import deduce_metagraph"
   ]
  },
  {
   "cell_type": "markdown",
   "metadata": {},
   "source": [
    "Firstly we will define a few graph structures. \n",
    "$$F_1 = \\begin{pmatrix}\n",
    "G(n,p) & G(n,q) & 0 & 0 \\\\\n",
    "0 & G(n,p) & G(n,q) & 0 \\\\\n",
    "0 & 0 & G(n,p) & G(n,q) \\\\\n",
    "G(n,q) & 0 & 0 & G(n,p) \\\\\n",
    "\\end{pmatrix} $$\n",
    "\n",
    "$$F_2 = \\begin{pmatrix}\n",
    "G(n,p) & G(n,q) & G(n,q) & 0 \\\\\n",
    "0 & G(n,p) & G(n,q) & 0 \\\\\n",
    "0 & 0 & G(n,p) & 0 \\\\\n",
    "G(n,q) & 0 & 0 & G(n,p) \\\\\n",
    "\\end{pmatrix}\n",
    "$$\n",
    "\n",
    "$$F_3 = \\begin{pmatrix}\n",
    "G(n,p) & G(n,q) & 0 & 0 & 0 & 0 \\\\\n",
    "0 & G(n,p) & G(n,q) & 0 & 0 & 0 \\\\\n",
    "G(n,q) & 0 & G(n,p) & G(n,q) & 0 & 0 \\\\\n",
    "0 & 0 & 0 & G(n,p) & G(n,q) & 0 \\\\\n",
    "0 & 0 & 0 & 0 & G(n,p) & G(n,q) \\\\\n",
    "0 & 0 & 0 & G(n,q) & 0 & G(n,p) \\\\\n",
    "\\end{pmatrix}\n",
    "$$\n",
    "\n"
   ]
  },
  {
   "cell_type": "code",
   "execution_count": 4,
   "metadata": {},
   "outputs": [
    {
     "data": {
      "text/plain": [
       "2"
      ]
     },
     "execution_count": 4,
     "metadata": {},
     "output_type": "execute_result"
    }
   ],
   "source": [
    "# Im aware I dont need 0.5 on the diagonal as we take the hermitian adj matrix\n",
    "F_1 = np.array([[0.5, 1.0, 0.0, 0.0], \n",
    "                [0.0, 0.5, 1.0, 0.0], \n",
    "                [0.0, 0.0, 0.5, 1.0], \n",
    "                [1.0, 0.0, 0.0, 0.5]])\n",
    "F_2 = np.array([[0.5, 1.0, 1.0, 0.0], \n",
    "                [0.0, 0.5, 1.0, 0.0], \n",
    "                [0.0, 0.0, 0.5, 1.0], \n",
    "                [1.0, 0.0, 0.0, 0.5]])\n",
    "F_3 = np.array([[0.5, 1.0, 0.0, 0.0, 0.0, 0.0], \n",
    "                [0.0, 0.5, 1.0, 0.0, 0.0, 0.0], \n",
    "                [1.0, 0.0, 0.5, 1.0, 0.0, 0.0],\n",
    "                [0.0, 0.0, 0.0, 0.5, 1.0, 0.0],\n",
    "                [0.0, 0.0, 0.0, 0.0, 0.5, 1.0],\n",
    "                [0.0, 0.0, 0.0, 1.0, 0.0, 0.5]])\n",
    "                \n",
    "F_1_herm = get_hermitian_adjacency_matrix(F_1)"
   ]
  }
 ],
 "metadata": {
  "kernelspec": {
   "display_name": "Python 3",
   "language": "python",
   "name": "python3"
  },
  "language_info": {
   "codemirror_mode": {
    "name": "ipython",
    "version": 3
   },
   "file_extension": ".py",
   "mimetype": "text/x-python",
   "name": "python",
   "nbconvert_exporter": "python",
   "pygments_lexer": "ipython3",
   "version": "3.10.6"
  },
  "orig_nbformat": 4
 },
 "nbformat": 4,
 "nbformat_minor": 2
}
