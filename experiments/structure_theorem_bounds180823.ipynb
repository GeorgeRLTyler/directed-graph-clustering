{
 "cells": [
  {
   "cell_type": "code",
   "execution_count": 13,
   "metadata": {},
   "outputs": [],
   "source": [
    "#imports\n",
    "import sys\n",
    "sys.path.append('../')\n",
    "import numpy as np\n",
    "import pandas as pd\n",
    "import scipy as sp\n",
    "import seaborn as sns\n",
    "import matplotlib.pyplot as plt\n",
    "import plotly.express as px\n",
    "import plotly.graph_objects as go\n",
    "\n",
    "from sklearn.cluster import KMeans\n",
    "from sklearn.metrics import adjusted_rand_score\n",
    "from helpers.products import Products\n",
    "from directed_graph_generators.directed_tree import DirectedTree\n",
    "from directed_graph_generators.lattice import DirectedLattice\n",
    "from directed_graph_generators.directed_stochastic_block_model import DirectedStochasticBlockModel\n",
    "from directed_graph_generators.directed_erdos_renyi import DirectedErdosRenyi\n",
    "\n",
    "from clustering_algorithms.exponential_clustering import Exponential_Clustering, Exponential_Clustering_no_evecs\n",
    "from clustering_algorithms.zanetti_clustering import DSBM_Clustering_Zanetti\n",
    "\n",
    "from helpers.get_hermitian_adjacency_matrix import get_hermitian_adjacency_matrix\n",
    "from helpers.deduce_metagraph import deduce_metagraph"
   ]
  },
  {
   "cell_type": "code",
   "execution_count": 14,
   "metadata": {},
   "outputs": [],
   "source": [
    "# make a 4 cycle directed stochastic block model\n",
    "F = np.array([[0.5,1.0,0.5,0.0],\n",
    "              [0.5,0.5,1.0,0.5],\n",
    "              [0.5,0.5,0.5,1.0],\n",
    "              [1.0,0.5,0.5,0.5]])\n",
    "A = DirectedStochasticBlockModel(4,400,1,1,F).adjacency_matrix\n",
    "clusters = [[i for i in range(100)], [i for i in range(100,200)], [i for i in range(200,300)], [i for i in range(300,400)]]\n",
    "M = deduce_metagraph(A, clusters, normalize=True)"
   ]
  },
  {
   "cell_type": "code",
   "execution_count": 24,
   "metadata": {},
   "outputs": [],
   "source": [
    "def lower_bound_and_sum_alpha(A,M,l,i,clusters):\n",
    "    \"\"\" A - adjacency matrix of graph\n",
    "        M - metagraph of graph\n",
    "       l - index of last informative eigenvalue/eigenvector\n",
    "       j - index of eigenvalue/eigenvector we are interested in\n",
    "       clusters - list of lists of vertices in each cluster. We use this to construct \\bar{g}_l\n",
    "    Returns: \n",
    "    norm of difference between lth eigenvector of L_A and L_M\n",
    "    and \\gamma_l / \\lambda_{l+1}\n",
    "    \"\"\"\n",
    "    #getting A_herm\n",
    "    A_herm = get_hermitian_adjacency_matrix(A,normalize=True)\n",
    "\n",
    "    # getting D to create indicator vectors\n",
    "    D_half = np.zeros(A_herm.shape)\n",
    "    A_sym = A + A.T\n",
    "    np.fill_diagonal(D_half,[np.sqrt(d) for d in np.sum(np.abs(A_sym), axis=1) if d != 0])\n",
    "\n",
    "    # getting L_A and L_M\n",
    "    M_herm = get_hermitian_adjacency_matrix(M,normalize=False)\n",
    "    L_A = np.eye(A.shape[0]) - A_herm\n",
    "    L_M = np.eye(M.shape[0]) - M_herm\n",
    "\n",
    "    # compute eigenvectors of L_A and obtain f\n",
    "    eigvals, eigvecs = np.linalg.eig(L_A)\n",
    "    eigvals = np.real(eigvals)\n",
    "    idx_A = eigvals.argsort()\n",
    "    eigvals = eigvals[idx_A]\n",
    "    eigvecs = eigvecs[:,idx_A]\n",
    "\n",
    "    # compute eigenvectors of L_M and obtain g\n",
    "    meta_eigvals, meta_eigvecs = np.linalg.eig(L_M)\n",
    "    meta_eigvals = np.real(meta_eigvals)\n",
    "    idx_M = meta_eigvals.argsort()\n",
    "    meta_eigvals = meta_eigvals[idx_M]\n",
    "    meta_eigvecs = meta_eigvecs[:,idx_M]\n",
    "\n",
    "    # compute \\bar{g_i}\n",
    "    g = meta_eigvecs[:,i-1]\n",
    "    g_bar_i = np.zeros(len(eigvecs), dtype=np.complex_)\n",
    "\n",
    "    for j in range(len(clusters)):\n",
    "        # define complex indicator vector\n",
    "        indicator = np.zeros(len(eigvecs),dtype=np.complex_)\n",
    "        indicator[clusters[j]] = 1 + 0j\n",
    "        indicator = D_half @ indicator\n",
    "        #normalize\n",
    "        indicator = indicator/np.linalg.norm(indicator)\n",
    "        g_bar_i[clusters[j]] = g[j]*indicator[clusters[j]]\n",
    "\n",
    "    alpha_i = np.zeros(l, dtype=np.complex_)\n",
    "    \n",
    "    for j in range(l):\n",
    "        f_j = eigvecs[:,j]\n",
    "        alpha_i[j] = np.vdot(f_j,g_bar_i)\n",
    "    \n",
    "    sum_alpha_ij_norms = np.linalg.norm(alpha_i)**2\n",
    "    lower_bound = (eigvals[l] - meta_eigvals[i-1])/(eigvals[l] - eigvals[0])\n",
    "\n",
    "    return sum_alpha_ij_norms, lower_bound\n"
   ]
  },
  {
   "cell_type": "code",
   "execution_count": null,
   "metadata": {},
   "outputs": [],
   "source": [
    "def lower_bound_and_sum_beta(A,M,l,clusters):\n",
    "    \"\"\" A - adjacency matrix of graph\n",
    "        M - metagraph of graph\n",
    "       l - index of last informative eigenvalue/eigenvector\n",
    "       j - index of eigenvalue/eigenvector we are interested in\n",
    "       clusters - list of lists of vertices in each cluster. We use this to construct \\bar{g}_l\n",
    "    Returns: \n",
    "    norm of difference between lth eigenvector of L_A and L_M\n",
    "    and \\gamma_l / \\lambda_{l+1}\n",
    "    \"\"\"\n",
    "    #getting A_herm\n",
    "    A_herm = get_hermitian_adjacency_matrix(A,normalize=True)\n",
    "\n",
    "    # getting D to create indicator vectors\n",
    "    D_half = np.zeros(A_herm.shape)\n",
    "    A_sym = A + A.T\n",
    "    np.fill_diagonal(D_half,[np.sqrt(d) for d in np.sum(np.abs(A_sym), axis=1) if d != 0])\n",
    "\n",
    "    # getting L_A and L_M\n",
    "    M_herm = get_hermitian_adjacency_matrix(M,normalize=False)\n",
    "    L_A = np.eye(A.shape[0]) - A_herm\n",
    "    L_M = np.eye(M.shape[0]) - M_herm\n",
    "\n",
    "    # compute eigenvectors of L_A and obtain f\n",
    "    eigvals, eigvecs = np.linalg.eig(L_A)\n",
    "    eigvals = np.real(eigvals)\n",
    "    idx_A = eigvals.argsort()\n",
    "    eigvals = eigvals[idx_A]\n",
    "    eigvecs = eigvecs[:,idx_A]\n",
    "\n",
    "    # compute eigenvectors of L_M and obtain g\n",
    "    meta_eigvals, meta_eigvecs = np.linalg.eig(L_M)\n",
    "    meta_eigvals = np.real(meta_eigvals)\n",
    "    idx_M = meta_eigvals.argsort()\n",
    "    meta_eigvals = meta_eigvals[idx_M]\n",
    "    meta_eigvecs = meta_eigvecs[:,idx_M]\n",
    "\n",
    "    g_bars = []\n",
    "    for i in range(l):\n",
    "        # compute \\bar{g_i}\n",
    "        g = meta_eigvecs[:,i]\n",
    "        g_bar_i = np.zeros(len(eigvecs), dtype=np.complex_)\n",
    "        for j in range(len(clusters)):\n",
    "            # define complex indicator vector\n",
    "            indicator = np.zeros(len(eigvecs),dtype=np.complex_)\n",
    "            indicator[clusters[j]] = 1 + 0j\n",
    "            indicator = D_half @ indicator\n",
    "            #normalize\n",
    "            indicator = indicator/np.linalg.norm(indicator)\n",
    "            g_bar_i[clusters[j]] = g[j]*indicator[clusters[j]]\n",
    "        g_bars.append(g_bar_i)\n",
    "\n",
    "    beta = np.zeros((l,l), dtype=np.complex_)\n",
    "    lower_bounds = []\n",
    "    for i in range(l):\n",
    "        lower_bound = (eigvals[l] - meta_eigvals[i])/(eigvals[l] - eigvals[0])\n",
    "        lower_bounds.append(lower_bound)\n",
    "        for j in range(l):\n",
    "            beta[i,j] = np.vdot(g_bars[j], eigvecs[i])\n",
    "    \n",
    "    \n",
    "    sum_beta_ij_norms = np.linalg.norm(beta, ord='fro')**2\n",
    "    lower_bound = np.sum(lower_bounds)\n",
    "    \n",
    "\n",
    "    return sum_beta_ij_norms, lower_bound"
   ]
  },
  {
   "cell_type": "code",
   "execution_count": 29,
   "metadata": {},
   "outputs": [
    {
     "name": "stdout",
     "output_type": "stream",
     "text": [
      "actual sum:  0.9977736773434925\n",
      "lower bound:  0.8558340711438127\n"
     ]
    }
   ],
   "source": [
    "sum_alpha_ij_norms, lower_bound = lower_bound_and_sum_alpha(A,M,l=1,i=1,clusters=clusters)\n",
    "print('actual sum: ', sum_alpha_ij_norms)\n",
    "print('lower bound: ', lower_bound)\n",
    "sum_beta_ij_norms, lower_bound = lower_bound_and_sum_beta(A,M,l=1,clusters=clusters)\n",
    "print('actual sum: ', sum_beta_ij_norms)\n",
    "print('lower bound: ', lower_bound)"
   ]
  },
  {
   "cell_type": "code",
   "execution_count": 6,
   "metadata": {},
   "outputs": [
    {
     "name": "stdout",
     "output_type": "stream",
     "text": [
      "actual sum:  0.9748415535779221\n",
      "upper bound:  0.8851610486488242\n"
     ]
    }
   ],
   "source": [
    "#4 cycle again with smaller p and q\n",
    "F = np.array([[0.5,1.0,0.5,0.0],\n",
    "              [0.5,0.5,1.0,0.5],\n",
    "              [0.5,0.5,0.5,1.0],\n",
    "              [1.0,0.5,0.5,0.5]])\n",
    "A = DirectedStochasticBlockModel(4,400,0.2,0.2,F).adjacency_matrix\n",
    "clusters = [[i for i in range(100)], [i for i in range(100,200)], [i for i in range(200,300)], [i for i in range(300,400)]]\n",
    "M = deduce_metagraph(A, clusters, normalize=True)\n",
    "\n",
    "sum_alpha_ij_norms, upper_bound = lower_bound_and_sum_alpha(A,M,l=1,i=1,clusters=clusters)\n",
    "print('actual sum: ', sum_alpha_ij_norms)\n",
    "print('upper bound: ', upper_bound)\n"
   ]
  },
  {
   "cell_type": "code",
   "execution_count": 7,
   "metadata": {},
   "outputs": [
    {
     "name": "stdout",
     "output_type": "stream",
     "text": [
      "actual sum:  0.9937025933043092\n",
      "upper bound:  0.9341334795964588\n"
     ]
    }
   ],
   "source": [
    "#different structure\n",
    "F = np.array([[0.5,1.0,1.0,1.0],\n",
    "              [0.0,0.5,1.0,0.5],\n",
    "              [0.0,0.5,0.5,1.0],\n",
    "              [0.0,0.5,0.5,0.5]])\n",
    "A = DirectedStochasticBlockModel(4,400,0.5,0.5,F).adjacency_matrix\n",
    "clusters = [[i for i in range(100)], [i for i in range(100,200)], [i for i in range(200,300)], [i for i in range(300,400)]]\n",
    "M = deduce_metagraph(A, clusters, normalize=True)\n",
    "\n",
    "sum_alpha_ij_norms, upper_bound = lower_bound_and_sum_alpha(A,M,l=1,i=1,clusters=clusters)\n",
    "print('actual sum: ', sum_alpha_ij_norms)\n",
    "print('upper bound: ', upper_bound)"
   ]
  },
  {
   "cell_type": "code",
   "execution_count": 8,
   "metadata": {},
   "outputs": [
    {
     "name": "stdout",
     "output_type": "stream",
     "text": [
      "actual sum:  0.9471179716314194\n",
      "upper bound:  0.7132006405131784\n"
     ]
    }
   ],
   "source": [
    "#different structure\n",
    "F = np.array([[0.5,1.0,1.0,1.0],\n",
    "              [0.0,0.5,1.0,0.5],\n",
    "              [0.0,0.5,0.5,1.0],\n",
    "              [0.0,0.5,0.5,0.5]])\n",
    "A = DirectedStochasticBlockModel(4,400,0.1,0.1,F).adjacency_matrix\n",
    "clusters = [[i for i in range(100)], [i for i in range(100,200)], [i for i in range(200,300)], [i for i in range(300,400)]]\n",
    "M = deduce_metagraph(A, clusters, normalize=True)\n",
    "\n",
    "sum_alpha_ij_norms, upper_bound = lower_bound_and_sum_alpha(A,M,l=1,i=1,clusters=clusters)\n",
    "print('actual sum: ', sum_alpha_ij_norms)\n",
    "print('upper bound: ', upper_bound)"
   ]
  },
  {
   "cell_type": "code",
   "execution_count": 9,
   "metadata": {},
   "outputs": [
    {
     "name": "stdout",
     "output_type": "stream",
     "text": [
      "actual sum:  0.9800372547673044\n",
      "upper bound:  0.4591270934617292\n"
     ]
    }
   ],
   "source": [
    "F_3 = np.array([[0.5, 1.0, 0.0, 0.5, 0.5, 0.5], \n",
    "                [0.0, 0.5, 1.0, 0.5, 0.5, 0.5], \n",
    "                [1.0, 0.0, 0.5, 1.0, 0.5, 0.5],\n",
    "                [0.5, 0.5, 0.0, 0.5, 1.0, 0.0],\n",
    "                [0.5, 0.5, 0.5, 0.0, 0.5, 1.0],\n",
    "                [0.5, 0.5, 0.5, 1.0, 0.0, 0.5]])\n",
    "A = DirectedStochasticBlockModel(6,600,0.5,0.5,F_3).adjacency_matrix\n",
    "clusters = [[i for i in range(100)], [i for i in range(100,200)], [i for i in range(200,300)], [i for i in range(300,400)], [i for i in range(400,500)], [i for i in range(500,600)]]\n",
    "M = deduce_metagraph(A, clusters, normalize=True)\n",
    "\n",
    "sum_alpha_ij_norms, upper_bound = lower_bound_and_sum_alpha(A,M,l=3,i=2,clusters=clusters)\n",
    "print('actual sum: ', sum_alpha_ij_norms)\n",
    "print('upper bound: ', upper_bound)\n"
   ]
  },
  {
   "cell_type": "code",
   "execution_count": 10,
   "metadata": {},
   "outputs": [
    {
     "name": "stdout",
     "output_type": "stream",
     "text": [
      "actual sum:  0.9336753510166479\n",
      "upper bound:  0.6401921426759368\n"
     ]
    }
   ],
   "source": [
    "F_3 = np.array([[0.5, 1.0, 0.0, 0.5, 0.5, 0.5], \n",
    "                [0.0, 0.5, 1.0, 0.5, 0.5, 0.5], \n",
    "                [1.0, 0.0, 0.5, 1.0, 0.5, 0.5],\n",
    "                [0.5, 0.5, 0.0, 0.5, 1.0, 0.0],\n",
    "                [0.5, 0.5, 0.5, 0.0, 0.5, 1.0],\n",
    "                [0.5, 0.5, 0.5, 1.0, 0.0, 0.5]])\n",
    "A = DirectedStochasticBlockModel(6,600,0.1,0.1,F_3).adjacency_matrix\n",
    "clusters = [[i for i in range(100)], [i for i in range(100,200)], [i for i in range(200,300)], [i for i in range(300,400)], [i for i in range(400,500)], [i for i in range(500,600)]]\n",
    "M = deduce_metagraph(A, clusters, normalize=True)\n",
    "\n",
    "sum_alpha_ij_norms, upper_bound = lower_bound_and_sum_alpha(A,M,l=3,i=1,clusters=clusters)\n",
    "print('actual sum: ', sum_alpha_ij_norms)\n",
    "print('upper bound: ', upper_bound)"
   ]
  }
 ],
 "metadata": {
  "kernelspec": {
   "display_name": "Python 3",
   "language": "python",
   "name": "python3"
  },
  "language_info": {
   "codemirror_mode": {
    "name": "ipython",
    "version": 3
   },
   "file_extension": ".py",
   "mimetype": "text/x-python",
   "name": "python",
   "nbconvert_exporter": "python",
   "pygments_lexer": "ipython3",
   "version": "3.10.6"
  },
  "orig_nbformat": 4
 },
 "nbformat": 4,
 "nbformat_minor": 2
}
