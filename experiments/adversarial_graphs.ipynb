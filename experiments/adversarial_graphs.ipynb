{
 "cells": [
  {
   "cell_type": "code",
   "execution_count": 1,
   "metadata": {},
   "outputs": [],
   "source": [
    "import sys\n",
    "sys.path.append('../')\n",
    "import numpy as np\n",
    "import pandas as pd\n",
    "import scipy as sp\n",
    "import seaborn as sns\n",
    "import matplotlib.pyplot as plt\n",
    "from sklearn.cluster import KMeans\n",
    "from sklearn.metrics import adjusted_rand_score\n",
    "from helpers.products import Products\n",
    "from directed_graph_generators.directed_tree import DirectedTree\n",
    "from directed_graph_generators.lattice import DirectedLattice\n",
    "from directed_graph_generators.directed_stochastic_block_model import DirectedStochasticBlockModel\n",
    "\n",
    "from clustering_algorithms.exponential_clustering import Exponential_Clustering, Exponential_Clustering_no_evecs\n",
    "from clustering_algorithms.zanetti_clustering import DSBM_Clustering_Zanetti"
   ]
  },
  {
   "cell_type": "code",
   "execution_count": null,
   "metadata": {},
   "outputs": [],
   "source": [
    "downwards_binary_tree = DirectedTree(16, 2).adjacency_matrix\n",
    "three_cycle = np.array([[0,1,0],[0,0,1],[1,0,0]])\n",
    "\n",
    "graph_adj = Products.tensor_product(np.eye(len(three_cycle)),downwards_binary_tree)\n",
    "graph_adj+= + Products.tensor_product(three_cycle, 0.2*np.ones(shape = (len(downwards_binary_tree), len(downwards_binary_tree))))\n",
    "true_clusters = np.array([len(downwards_binary_tree)*[i] for i in range(len(three_cycle))]).flatten()\n",
    "sns.heatmap(graph_adj)\n",
    "# trying Zanetti clustering\n",
    "ec_no_evecs_clusters, cos_A = Exponential_Clustering_no_evecs(graph_adj,K=3,t=10)\n",
    "ec_no_evecs_ari = adjusted_rand_score(true_clusters,ec_no_evecs_clusters)\n",
    "# Zanetti Clustering\n",
    "zc_clusters,_ = DSBM_Clustering_Zanetti(graph_adj,K=3,l=1,method='adjacency',normalize=True)\n",
    "zc_ari = adjusted_rand_score(true_clusters,zc_clusters)\n",
    "# printing results\n",
    "print(f\"Exponential Clustering ARI: {ec_no_evecs_ari}\")\n",
    "print(f\"Zanetti Clustering ARI: {zc_ari}\")"
   ]
  },
  {
   "cell_type": "code",
   "execution_count": null,
   "metadata": {},
   "outputs": [],
   "source": [
    "downwards_binary_tree = DirectedTree(30, 5).adjacency_matrix\n",
    "three_cycle = np.array([[0,1,0],[0,0,1],[1,0,0]])\n",
    "\n",
    "graph_adj = Products.tensor_product(np.eye(len(three_cycle)),downwards_binary_tree)\n",
    "noisy_3_cycle = DirectedStochasticBlockModel(k=3,N = len(graph_adj), p=0.5, q=0.5,F = np.array([[0,0.8,0.2],[0.2,0,0.8],[0.8,0.2,0]])).adjacency_matrix\n",
    "# replacing diagonal blocks with 0s and \n",
    " \n",
    "ones = np.ones(shape = (len(downwards_binary_tree), len(downwards_binary_tree)))\n",
    "block_three_cycle_of_ones = Products.tensor_product(three_cycle,ones)\n",
    "\n",
    "noisy_3_cycle = noisy_3_cycle * block_three_cycle_of_ones\n",
    "graph_adj_complete = graph_adj + noisy_3_cycle\n",
    "true_clusters = np.array([len(downwards_binary_tree)*[i] for i in range(len(three_cycle))]).flatten()\n",
    "sns.heatmap(graph_adj_complete)\n",
    "# trying Zanetti clustering\n",
    "ec_no_evecs_clusters, cos_A = Exponential_Clustering_no_evecs(graph_adj_complete,K=3,t=10)\n",
    "ec_no_evecs_ari = adjusted_rand_score(true_clusters,ec_no_evecs_clusters)\n",
    "# Zanetti Clustering\n",
    "zc_clusters,_ = DSBM_Clustering_Zanetti(graph_adj_complete,K=3,l=1,method='adjacency',normalize=True)\n",
    "zc_ari = adjusted_rand_score(true_clusters,zc_clusters)\n",
    "# printing results\n",
    "print(f\"Exponential Clustering ARI: {ec_no_evecs_ari}\")\n",
    "print(f\"Zanetti Clustering ARI: {zc_ari}\")"
   ]
  },
  {
   "attachments": {},
   "cell_type": "markdown",
   "metadata": {},
   "source": [
    "It appears a tree doesn't have enough 'flow' inside them to create an adversarial example."
   ]
  },
  {
   "attachments": {},
   "cell_type": "markdown",
   "metadata": {},
   "source": [
    "## Lattice Clusters"
   ]
  },
  {
   "cell_type": "code",
   "execution_count": null,
   "metadata": {},
   "outputs": [],
   "source": []
  }
 ],
 "metadata": {
  "kernelspec": {
   "display_name": "Python 3",
   "language": "python",
   "name": "python3"
  },
  "language_info": {
   "codemirror_mode": {
    "name": "ipython",
    "version": 3
   },
   "file_extension": ".py",
   "mimetype": "text/x-python",
   "name": "python",
   "nbconvert_exporter": "python",
   "pygments_lexer": "ipython3",
   "version": "3.10.6"
  },
  "orig_nbformat": 4,
  "vscode": {
   "interpreter": {
    "hash": "916dbcbb3f70747c44a77c7bcd40155683ae19c65e1c03b4aa3499c5328201f1"
   }
  }
 },
 "nbformat": 4,
 "nbformat_minor": 2
}
