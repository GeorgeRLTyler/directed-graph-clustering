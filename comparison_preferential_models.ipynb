{
 "cells": [
  {
   "cell_type": "code",
   "execution_count": 1,
   "metadata": {},
   "outputs": [],
   "source": [
    "import sys\n",
    "import numpy as np\n",
    "import pandas as pd\n",
    "import scipy as sp\n",
    "import seaborn as sns\n",
    "import matplotlib.pyplot as plt\n",
    "from sklearn.cluster import KMeans\n",
    "from sklearn.metrics import adjusted_rand_score\n",
    "from directed_graph_generators.preferential_attachment_model import PreferentialAttachmentModel\n",
    "from directed_graph_generators.directed_stochastic_block_model import DirectedStochasticBlockModel\n",
    "from clustering_algorithms.exponential_clustering import Exponential_Clustering, Exponential_Clustering_no_evecs\n",
    "from clustering_algorithms.zanetti_clustering import DSBM_Clustering_Zanetti"
   ]
  },
  {
   "cell_type": "code",
   "execution_count": 5,
   "metadata": {},
   "outputs": [],
   "source": [
    "#make preferential attachment model\n",
    "pam = PreferentialAttachmentModel(N=100,m=2,k=3,t_0=10,t_max=100,community_affinities=np.array([[0,1,0],[0,0,1],[1,0,0]]))\n",
    "true_clusters = pam._vertex_communities\n",
    "A = pam.adjacency_matrix"
   ]
  },
  {
   "cell_type": "code",
   "execution_count": 7,
   "metadata": {},
   "outputs": [
    {
     "name": "stderr",
     "output_type": "stream",
     "text": [
      "/home/georg/.local/lib/python3.10/site-packages/sklearn/cluster/_kmeans.py:870: FutureWarning: The default value of `n_init` will change from 10 to 'auto' in 1.4. Set the value of `n_init` explicitly to suppress the warning\n",
      "  warnings.warn(\n"
     ]
    },
    {
     "name": "stdout",
     "output_type": "stream",
     "text": [
      "ARI for projected eigenvector clustering:  0.18889862963826842\n"
     ]
    }
   ],
   "source": [
    "proj_evec_clusters, proj_evec_matrix = DSBM_Clustering_Zanetti(A,3,1)\n",
    "# take ARI\n",
    "ARI_proj_evec = adjusted_rand_score(true_clusters, proj_evec_clusters)\n",
    "print(\"ARI for projected eigenvector clustering: \", ARI_proj_evec)\n"
   ]
  },
  {
   "cell_type": "code",
   "execution_count": 9,
   "metadata": {},
   "outputs": [
    {
     "name": "stderr",
     "output_type": "stream",
     "text": [
      "/home/georg/.local/lib/python3.10/site-packages/sklearn/cluster/_kmeans.py:870: FutureWarning: The default value of `n_init` will change from 10 to 'auto' in 1.4. Set the value of `n_init` explicitly to suppress the warning\n",
      "  warnings.warn(\n"
     ]
    },
    {
     "name": "stdout",
     "output_type": "stream",
     "text": [
      "ARI for exponential clustering:  0.9716176077000348\n"
     ]
    }
   ],
   "source": [
    "#repeating experiment for exponential clustering\n",
    "exp_clusters, exp_matrix = Exponential_Clustering_no_evecs(pam.adjacency_matrix,K=3,t=5)\n",
    "# take ARI\n",
    "ARI_exp = adjusted_rand_score(true_clusters, exp_clusters)\n",
    "print(\"ARI for exponential clustering: \", ARI_exp)"
   ]
  }
 ],
 "metadata": {
  "kernelspec": {
   "display_name": "Python 3",
   "language": "python",
   "name": "python3"
  },
  "language_info": {
   "codemirror_mode": {
    "name": "ipython",
    "version": 3
   },
   "file_extension": ".py",
   "mimetype": "text/x-python",
   "name": "python",
   "nbconvert_exporter": "python",
   "pygments_lexer": "ipython3",
   "version": "3.10.6 (main, Nov 14 2022, 16:10:14) [GCC 11.3.0]"
  },
  "orig_nbformat": 4,
  "vscode": {
   "interpreter": {
    "hash": "916dbcbb3f70747c44a77c7bcd40155683ae19c65e1c03b4aa3499c5328201f1"
   }
  }
 },
 "nbformat": 4,
 "nbformat_minor": 2
}
