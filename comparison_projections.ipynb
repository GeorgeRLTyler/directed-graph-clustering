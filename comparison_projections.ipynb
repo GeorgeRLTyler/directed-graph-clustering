{
 "cells": [
  {
   "cell_type": "code",
   "execution_count": 1,
   "metadata": {},
   "outputs": [],
   "source": [
    "import sys\n",
    "sys.path.append('/home/george/graph-studies')\n",
    "import numpy as np\n",
    "import pandas as pd\n",
    "import scipy as sp\n",
    "import seaborn as sns\n",
    "import matplotlib.pyplot as plt\n",
    "from sklearn.cluster import KMeans\n",
    "\n",
    "from directed_graph import DirectedStochasticBlockModel\n",
    "from clustering_algorithms.directed_clustering_zanetti import DSBM_Clustering_Zanetti\n",
    "from clustering_algorithms.exponential_clustering import Exponential_Clustering, Exponential_Clustering_no_evecs"
   ]
  },
  {
   "cell_type": "code",
   "execution_count": 2,
   "metadata": {},
   "outputs": [],
   "source": [
    "# Setting random seed for reproducibility\n",
    "np.random.seed(10)"
   ]
  },
  {
   "cell_type": "markdown",
   "metadata": {},
   "source": [
    "With F set to be $$F = \\begin{pmatrix} 0.5 & 0.9 & 0.1 \\\\ 0.1 & 0.5 & 0.9 \\\\ 0.9 & 0.1 & 0.5 \\end{pmatrix}$$ , we reduce p and q and plot heatmaps of the projected eigenvectors of A, the Laplacian, the projected eigenvectors of cos(-iA) and cos(-iA)"
   ]
  },
  {
   "cell_type": "code",
   "execution_count": null,
   "metadata": {},
   "outputs": [],
   "source": [
    "n = 300\n",
    "p = 0.5\n",
    "q = 0.5\n",
    "k = 3\n",
    "i_vals = 10\n",
    "\n",
    "fig, axs = plt.subplots(4,i_vals, figsize=(100, 20), facecolor='w', edgecolor='k')\n",
    "fig.subplots_adjust(hspace = .5, wspace=.3)\n",
    "axs = axs.ravel()\n",
    "\n",
    "\n",
    "def gen_F(i):\n",
    "    return np.array([[0.5,1-i,0+i],[0+i,0.5,1-i],[1-i,0+i,0.5]])\n",
    "\n",
    "ARI_list = {\"probability of edge\": [],\"projected eigenvectors of A\": [], \"projected eigenvectors of Laplacian\": [], \"projected eigenvectors of cos(A_hat - A_hat.T)\": [], \"cos(A_hat - A_hat.T)\": []}\n",
    "F = gen_F(0.1)\n",
    "\n",
    "\n",
    "for i in range(i_vals):\n",
    "\n",
    "    dbsm = DirectedStochasticBlockModel(k,n,p/(2*(i+1)),q/(2*(i+1)),F)\n",
    "    A_hat = dbsm()\n",
    "        \n",
    "    ARI_list[\"probability of edge\"].append(p/(2*(i+1)))\n",
    "\n",
    "    clustering_standard_A, proj_evecs_standard_A = DSBM_Clustering_Zanetti(adjacency_matrix=A_hat,K=k,l=1)\n",
    "    ARI_list[\"projected eigenvectors of A\"].append(dbsm.calculate_ARI(clustering_standard_A))\n",
    "    np.fill_diagonal(proj_evecs_standard_A,0)\n",
    "\n",
    "    clustering_standard_L, proj_evecs_standard_L = DSBM_Clustering_Zanetti(adjacency_matrix=A_hat,K=k, method='laplacian',l=1)\n",
    "    ARI_list[\"projected eigenvectors of Laplacian\"].append(dbsm.calculate_ARI(clustering_standard_L))\n",
    "    np.fill_diagonal(proj_evecs_standard_L,0)\n",
    "\n",
    "    clustering_exp, proj_evecs_exp = Exponential_Clustering(adjacency_matrix=A_hat,K=k,l=3,t=3)\n",
    "    ARI_list[\"projected eigenvectors of cos(A_hat - A_hat.T)\"].append(dbsm.calculate_ARI(clustering_exp))\n",
    "    np.fill_diagonal(proj_evecs_exp,0)\n",
    "\n",
    "    clustering_exp_no_evecs, proj_evecs_exp_no_evecs = Exponential_Clustering_no_evecs(adjacency_matrix=A_hat,K=k,t=3)\n",
    "    ARI_list[\"cos(A_hat - A_hat.T)\"].append(dbsm.calculate_ARI(clustering_exp_no_evecs))\n",
    "    np.fill_diagonal(proj_evecs_exp_no_evecs,0)\n",
    "    \n",
    "    sns.heatmap(proj_evecs_standard_A,cmap=\"YlGnBu\",ax=axs[i])\n",
    "    axs[i].set_title(\"p = \" + str(p/(2*(i+1))))\n",
    "    sns.heatmap(proj_evecs_standard_L,cmap=\"PuBuGn\",ax=axs[int(i_vals) + i])\n",
    "    sns.heatmap(proj_evecs_exp,cmap=\"YlGnBu\",ax=axs[2*int(i_vals) + i])\n",
    "    sns.heatmap(proj_evecs_exp_no_evecs,cmap=\"YlGnBu\",ax=axs[3*int(i_vals) + i])\n",
    "\n",
    "    if i == 0:\n",
    "        axs[i].set_ylabel(\"projected eigenvectors of A\")\n",
    "        axs[int(i_vals) + i].set_ylabel(\"projected eigenvectors of Laplacian\")\n",
    "        axs[2*int(i_vals) + i].set_ylabel(\"projected eigenvectors of cos(A_hat - A_hat.T)\")\n",
    "        axs[3*int(i_vals) + i].set_ylabel(\"cos(A_hat - A_hat.T)\")\n",
    "    print(\"iteration complete for p = q = \" + str(p/(2*(i+1))))\n",
    "    "
   ]
  },
  {
   "cell_type": "code",
   "execution_count": null,
   "metadata": {},
   "outputs": [],
   "source": [
    "ARIs = pd.DataFrame(ARI_list)\n",
    "ARIs.set_index(\"probability of edge\",inplace=True)\n",
    "ARIs.plot(ylabel=\"ARI\",xlabel=\"p\").invert_xaxis()\n",
    "\n",
    "ARIs.to_csv(\"ARI_3_cycle.csv\")"
   ]
  },
  {
   "cell_type": "code",
   "execution_count": 3,
   "metadata": {},
   "outputs": [
    {
     "name": "stdout",
     "output_type": "stream",
     "text": [
      "1.035499741412901 -0.002729781176755995\n",
      "[1.13725141+0.00000000e+00j 1.13725141+0.00000000e+00j\n",
      " 1.12315141+6.05555168e-16j 1.12315141-6.05555168e-16j\n",
      " 1.11789619+0.00000000e+00j]\n",
      "t = 1 l = 3\n",
      "1.1466978602038853 -0.011457031672898117\n",
      "[1.58668156 1.58668156 1.52293816 1.52293816 1.49938377]\n",
      "t = 2 l = 3\n",
      "1.348468109399119 -0.027899543729344688\n",
      "[2.47166028 2.47166028 2.29782887 2.29782887 2.23441461]\n",
      "t = 3 l = 3\n",
      "1.6683358374635824 -0.055287733190215065\n",
      "[4.03511673 4.03511673 3.63868129 3.63868129 3.49630337]\n",
      "t = 4 l = 3\n",
      "2.1511205427422793 -0.09899171232689095\n",
      "[6.70622414 6.70622414 5.87575115 5.87575115 5.5825938 ]\n",
      "t = 5 l = 3\n",
      "2.866626075336983 -0.16756660560090297\n",
      "[11.21820904 11.21820904  9.56003504  9.56003504  8.98521727]\n",
      "t = 6 l = 3\n",
      "3.921857093840437 -0.2744229585444938\n",
      "[18.80962405 18.80962405 15.59898245 15.59898245 14.50648644]\n",
      "t = 7 l = 3\n",
      "5.480143654251026 -0.4404532262432522\n",
      "[31.56433406 31.56433406 25.4800031  25.4800031  23.44827448]\n",
      "t = 8 l = 3\n",
      "7.790958068443585 -0.6981352781791884\n",
      "[52.98354303+0.j 52.98354303+0.j 41.63682017+0.j 41.63682017+0.j\n",
      " 37.91898681+0.j]\n",
      "t = 9 l = 3\n"
     ]
    }
   ],
   "source": [
    "n = 300\n",
    "p = 2*np.log(n-1)/n\n",
    "q = p\n",
    "k = 3\n",
    "l = 3\n",
    "t_vals = 10\n",
    "\n",
    "def gen_F(i):\n",
    "    return np.array([[0.5,1-i,0+i],[0+i,0.5,1-i],[1-i,0+i,0.5]])\n",
    "\n",
    "ARI_list = {\"t\": [], \"probability of edge\": [], \"projected eigenvectors of cos(A_hat - A_hat.T)\": [], \"cos(A_hat - A_hat.T)\": []}\n",
    "F = gen_F(0.1)\n",
    "\n",
    "dbsm = DirectedStochasticBlockModel(k,n,p,q,F)\n",
    "A_hat = dbsm()\n",
    "\n",
    "for t in range(1,t_vals):\n",
    "    \n",
    "\n",
    "    ARI_list[\"t\"].append(t**2)\n",
    "    ARI_list[\"probability of edge\"].append(p)\n",
    "\n",
    "    clustering_exp, proj_evecs_exp = Exponential_Clustering(adjacency_matrix=A_hat,K=k,l=l,t=t)\n",
    "    ARI_list[\"projected eigenvectors of cos(A_hat - A_hat.T)\"].append(dbsm.calculate_ARI(clustering_exp))\n",
    "\n",
    "    clustering_exp_no_evecs, proj_evecs_exp_no_evecs = Exponential_Clustering_no_evecs(adjacency_matrix=A_hat,K=k,t=t)\n",
    "    ARI_list[\"cos(A_hat - A_hat.T)\"].append(dbsm.calculate_ARI(clustering_exp_no_evecs))\n",
    "\n",
    "    print(\"t = \" + str(t) + \" l = \" + str(l))"
   ]
  },
  {
   "cell_type": "code",
   "execution_count": null,
   "metadata": {},
   "outputs": [],
   "source": [
    "n = 300\n",
    "p = 2*np.log(n-1)/n\n",
    "q = p\n",
    "k = 3\n",
    "l = 3\n",
    "t_vals = 10\n",
    "\n",
    "def gen_F(i):\n",
    "    return np.array([[0.5,1-i,0+i],[0+i,0.5,1-i],[1-i,0+i,0.5]])\n",
    "\n",
    "F = gen_F(0.1)\n",
    "\n",
    "dbsm = DirectedStochasticBlockModel(k,n,p,q,F)\n",
    "A_hat = dbsm()\n",
    "A = (A_hat - A_hat.T)*1j\n",
    "A_abs = np.abs(A)\n",
    "D_bar_inv = np.zeros(A.shape)\n",
    "np.fill_diagonal(D_bar_inv,[1/np.sqrt(d) for d in np.sum(A_abs, axis=1) if d != 0])\n",
    "e_vals,e_vecs = np.linalg.eig(D_bar_inv @ A @ D_bar_inv)\n",
    "print(e_vals)"
   ]
  },
  {
   "cell_type": "code",
   "execution_count": null,
   "metadata": {},
   "outputs": [],
   "source": [
    "e_vals_series = pd.Series(np.real(e_vals))\n",
    "e_vals_series.sort_values()"
   ]
  },
  {
   "cell_type": "code",
   "execution_count": 4,
   "metadata": {},
   "outputs": [
    {
     "data": {
      "text/plain": [
       "<matplotlib.legend.Legend at 0x7f0ca4616550>"
      ]
     },
     "execution_count": 4,
     "metadata": {},
     "output_type": "execute_result"
    },
    {
     "data": {
      "image/png": "[encoded data removed]",
      "text/plain": [
       "<Figure size 432x288 with 1 Axes>"
      ]
     },
     "metadata": {
      "needs_background": "light"
     },
     "output_type": "display_data"
    }
   ],
   "source": [
    "ARIs = pd.DataFrame(ARI_list)\n",
    "ARIs.plot(x=\"t\",y=[\"projected eigenvectors of cos(A_hat - A_hat.T)\",\"cos(A_hat - A_hat.T)\"],ylabel=\"ARI\",xlabel=\"t\",title=f\"p =%.5f\" % p).legend(loc='best')"
   ]
  },
  {
   "cell_type": "markdown",
   "metadata": {},
   "source": [
    "Repeating the experiment with a new block model. We now use the following F:\n",
    "$$F = \\begin{pmatrix} 0.5 & 0.9 & 0.9 & 0.9 \\\\\n",
    "                  0.1 & 0.5 & 1 & 0.5 \\\\ \n",
    "                  0.1 & 0 & 0.5 & 0.1 \\\\ \n",
    "                  0.1 & 0.5 & 0.9 & 0.5 \\\\ \\end{pmatrix}$$"
   ]
  },
  {
   "cell_type": "code",
   "execution_count": null,
   "metadata": {},
   "outputs": [],
   "source": [
    "n = 400\n",
    "p = 0.5\n",
    "q = 0.5\n",
    "k = 4\n",
    "i_vals = 10\n",
    "\n",
    "def gen_F(i):\n",
    " return np.array([[0.5,1-i,1-i,1-i],\n",
    "                  [0+i,0.5,1,0.5],\n",
    "                  [0+i,0,0.5,0+i],\n",
    "                  [0+i,0.5,1-i,0.5]])\n",
    "\n",
    "ARI_list = {\"probability of edge\": [],\"projected eigenvectors of A\": [], \"projected eigenvectors of Laplacian\": [], \"projected eigenvectors of cos(A_hat - A_hat.T)\": [], \"cos(A_hat - A_hat.T)\": []}\n",
    "F = gen_F(0.1)\n",
    "\n",
    "\n",
    "fig, axs = plt.subplots(4,i_vals, figsize=(100, 20), facecolor='w', edgecolor='k')\n",
    "fig.subplots_adjust(hspace = .5, wspace=.3)\n",
    "axs = axs.ravel()\n",
    "\n",
    "\n",
    "for i in range(i_vals):\n",
    "\n",
    "    dbsm = DirectedStochasticBlockModel(k,n,p/(2*(i+1)),q/(2*(i+1)),F)\n",
    "    A_hat = dbsm()\n",
    "        \n",
    "    ARI_list[\"probability of edge\"].append(p/(2*(i+1)))\n",
    "\n",
    "    clustering_standard_A, proj_evecs_standard_A = DSBM_Clustering_Zanetti(adjacency_matrix=A_hat,K=k,l=2)\n",
    "    ARI_list[\"projected eigenvectors of A\"].append(dbsm.calculate_ARI(clustering_standard_A))\n",
    "    np.fill_diagonal(proj_evecs_standard_A,0)\n",
    "\n",
    "    clustering_standard_L, proj_evecs_standard_L = DSBM_Clustering_Zanetti(adjacency_matrix=A_hat,K=k, method='laplacian',l=2)\n",
    "    ARI_list[\"projected eigenvectors of Laplacian\"].append(dbsm.calculate_ARI(clustering_standard_L))\n",
    "    np.fill_diagonal(proj_evecs_standard_L,0)\n",
    "\n",
    "    clustering_exp, proj_evecs_exp = Exponential_Clustering(adjacency_matrix=A_hat,K=k,l=3,t=3)\n",
    "    ARI_list[\"projected eigenvectors of cos(A_hat - A_hat.T)\"].append(dbsm.calculate_ARI(clustering_exp))\n",
    "    np.fill_diagonal(proj_evecs_exp,0)\n",
    "\n",
    "    clustering_exp_no_evecs, proj_evecs_exp_no_evecs = Exponential_Clustering_no_evecs(adjacency_matrix=A_hat,K=k,t=3)\n",
    "    ARI_list[\"cos(A_hat - A_hat.T)\"].append(dbsm.calculate_ARI(clustering_exp_no_evecs))\n",
    "    np.fill_diagonal(proj_evecs_exp_no_evecs,0)\n",
    "    \n",
    "    sns.heatmap(proj_evecs_standard_A,cmap=\"YlGnBu\",ax=axs[i])\n",
    "    axs[i].set_title(\"p = \" + str(p/(2*(i+1))))\n",
    "    sns.heatmap(proj_evecs_standard_L,cmap=\"PuBuGn\",ax=axs[int(i_vals) + i])\n",
    "    sns.heatmap(proj_evecs_exp,cmap=\"YlGnBu\",ax=axs[2*int(i_vals) + i])\n",
    "    sns.heatmap(proj_evecs_exp_no_evecs,cmap=\"YlGnBu\",ax=axs[3*int(i_vals) + i])\n",
    "\n",
    "    if i == 0:\n",
    "        axs[i].set_ylabel(\"projected eigenvectors of A\")\n",
    "        axs[int(i_vals) + i].set_ylabel(\"projected eigenvectors of Laplacian\")\n",
    "        axs[2*int(i_vals) + i].set_ylabel(\"projected eigenvectors of cos(A_hat - A_hat.T)\")\n",
    "        axs[3*int(i_vals) + i].set_ylabel(\"cos(A_hat - A_hat.T)\")\n",
    "    print(\"iteration complete for p = q = \" + str(p/(2*(i+1))))\n",
    "    "
   ]
  },
  {
   "cell_type": "code",
   "execution_count": null,
   "metadata": {},
   "outputs": [],
   "source": [
    "ARIs = pd.DataFrame(ARI_list)\n",
    "ARIs.set_index(\"probability of edge\",inplace=True)\n",
    "ARIs.plot(ylabel=\"ARI\",xlabel=\"p\").invert_xaxis()\n",
    "ARIs.to_csv(\"4block-1dominant.csv\")"
   ]
  },
  {
   "cell_type": "markdown",
   "metadata": {},
   "source": [
    "Now again, trying different values of t for p close to threshold"
   ]
  },
  {
   "cell_type": "code",
   "execution_count": null,
   "metadata": {},
   "outputs": [],
   "source": [
    "n = 400\n",
    "p = np.log(n-1)/n\n",
    "q = p\n",
    "k = 4\n",
    "l = 4\n",
    "t_vals = 10\n",
    "\n",
    "\n",
    "def gen_F(i):\n",
    " return np.array([[0.5,1-i,1-i,1-i],\n",
    "                  [0+i,0.5,1,0.5],\n",
    "                  [0+i,0,0.5,0+i],\n",
    "                  [0+i,0.5,1-i,0.5]])\n",
    "\n",
    "\n",
    "ARI_list = {\"t\": [], \"probability of edge\": [], \"projected eigenvectors of cos(A_hat - A_hat.T)\": [], \"cos(A_hat - A_hat.T)\": []}\n",
    "F = gen_F(0.1)\n",
    "\n",
    "dbsm = DirectedStochasticBlockModel(k,n,p,q,F)\n",
    "A_hat = dbsm()\n",
    "\n",
    "for t in range(1,t_vals):\n",
    "    \n",
    "\n",
    "    ARI_list[\"t\"].append(t**2)\n",
    "    ARI_list[\"probability of edge\"].append(p)\n",
    "\n",
    "    clustering_exp, proj_evecs_exp = Exponential_Clustering(adjacency_matrix=A_hat,K=k,l=l,t=t**2)\n",
    "    ARI_list[\"projected eigenvectors of cos(A_hat - A_hat.T)\"].append(dbsm.calculate_ARI(clustering_exp))\n",
    "\n",
    "    clustering_exp_no_evecs, proj_evecs_exp_no_evecs = Exponential_Clustering_no_evecs(adjacency_matrix=A_hat,K=k,t=t**2)\n",
    "    ARI_list[\"cos(A_hat - A_hat.T)\"].append(dbsm.calculate_ARI(clustering_exp_no_evecs))\n",
    "\n",
    "    print(\"t = \" + str(t) + \" l = \" + str(l))"
   ]
  },
  {
   "cell_type": "code",
   "execution_count": null,
   "metadata": {},
   "outputs": [],
   "source": [
    "ARIs = pd.DataFrame(ARI_list)\n",
    "ARIs.plot(x=\"t\",y=[\"projected eigenvectors of cos(A_hat - A_hat.T)\",\"cos(A_hat - A_hat.T)\"],ylabel=\"ARI\",xlabel=\"t\",title=f\"p =%.5f\" % p).legend(loc='best')"
   ]
  },
  {
   "cell_type": "code",
   "execution_count": null,
   "metadata": {},
   "outputs": [],
   "source": [
    "ARIs"
   ]
  }
 ],
 "metadata": {
  "kernelspec": {
   "display_name": "Python 3.8.10 64-bit",
   "language": "python",
   "name": "python3"
  },
  "language_info": {
   "codemirror_mode": {
    "name": "ipython",
    "version": 3
   },
   "file_extension": ".py",
   "mimetype": "text/x-python",
   "name": "python",
   "nbconvert_exporter": "python",
   "pygments_lexer": "ipython3",
   "version": "3.8.10"
  },
  "orig_nbformat": 4,
  "vscode": {
   "interpreter": {
    "hash": "31f2aee4e71d21fbe5cf8b01ff0e069b9275f58929596ceb00d14d90e3e16cd6"
   }
  }
 },
 "nbformat": 4,
 "nbformat_minor": 2
}
