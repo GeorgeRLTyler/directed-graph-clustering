{
 "cells": [
  {
   "cell_type": "code",
   "execution_count": 1,
   "metadata": {},
   "outputs": [],
   "source": [
    "import numpy as np\n",
    "import pandas as pd\n",
    "\n",
    "from directed_graph_generators.base_graph import BaseGraph\n",
    "from directed_graph_generators.directed_stochastic_block_model import DirectedStochasticBlockModel\n",
    "from directed_graph_generators.preferential_attachment_model import PreferentialAttachmentModel"
   ]
  },
  {
   "cell_type": "code",
   "execution_count": null,
   "metadata": {},
   "outputs": [],
   "source": [
    "dsbm = DirectedStochasticBlockModel(k=2,N=100,p=0.5,q=0.5,F=[[0,0.5],[1,0.5]])"
   ]
  },
  {
   "cell_type": "code",
   "execution_count": null,
   "metadata": {},
   "outputs": [],
   "source": [
    "isinstance(dsbm,DirectedStochasticBlockModel)"
   ]
  },
  {
   "cell_type": "code",
   "execution_count": null,
   "metadata": {},
   "outputs": [],
   "source": [
    "dsbm.adjacency_matrix"
   ]
  },
  {
   "cell_type": "code",
   "execution_count": null,
   "metadata": {},
   "outputs": [],
   "source": [
    "print(dsbm._adjacency_matrix)"
   ]
  },
  {
   "cell_type": "code",
   "execution_count": 2,
   "metadata": {},
   "outputs": [],
   "source": [
    "pam = PreferentialAttachmentModel(N=100,m=10,k=3,t_0=10,t_max=100,community_affinities=np.array([[0.5,0.7,0.3],[0.3,0.5,0.7],[0.7,0.3,0.5]]))"
   ]
  },
  {
   "cell_type": "code",
   "execution_count": 3,
   "metadata": {},
   "outputs": [
    {
     "ename": "TypeError",
     "evalue": "'NoneType' object is not iterable",
     "output_type": "error",
     "traceback": [
      "\u001b[0;31m---------------------------------------------------------------------------\u001b[0m",
      "\u001b[0;31mTypeError\u001b[0m                                 Traceback (most recent call last)",
      "Cell \u001b[0;32mIn[3], line 4\u001b[0m\n\u001b[1;32m      2\u001b[0m \u001b[39mimport\u001b[39;00m \u001b[39mseaborn\u001b[39;00m \u001b[39mas\u001b[39;00m \u001b[39msns\u001b[39;00m\n\u001b[1;32m      3\u001b[0m \u001b[39mimport\u001b[39;00m \u001b[39mmatplotlib\u001b[39;00m\u001b[39m.\u001b[39;00m\u001b[39mpyplot\u001b[39;00m \u001b[39mas\u001b[39;00m \u001b[39mplt\u001b[39;00m\n\u001b[0;32m----> 4\u001b[0m sns\u001b[39m.\u001b[39mheatmap(pam\u001b[39m.\u001b[39;49madjacency_matrix)\n\u001b[1;32m      5\u001b[0m plt\u001b[39m.\u001b[39mshow()\n",
      "File \u001b[0;32m~/directed-graph-clustering/directed_graph_generators/preferential_attachment_model.py:38\u001b[0m, in \u001b[0;36mPreferentialAttachmentModel.adjacency_matrix\u001b[0;34m(self)\u001b[0m\n\u001b[1;32m     36\u001b[0m \u001b[39m@property\u001b[39m\n\u001b[1;32m     37\u001b[0m \u001b[39mdef\u001b[39;00m \u001b[39madjacency_matrix\u001b[39m(\u001b[39mself\u001b[39m):\n\u001b[0;32m---> 38\u001b[0m     \u001b[39mreturn\u001b[39;00m \u001b[39mself\u001b[39;49m\u001b[39m.\u001b[39;49madjacency_matrix_pam()\n",
      "File \u001b[0;32m~/directed-graph-clustering/directed_graph_generators/preferential_attachment_model.py:48\u001b[0m, in \u001b[0;36mPreferentialAttachmentModel.adjacency_matrix_pam\u001b[0;34m(self)\u001b[0m\n\u001b[1;32m     45\u001b[0m \u001b[39mfor\u001b[39;00m e \u001b[39min\u001b[39;00m \u001b[39mrange\u001b[39m(\u001b[39mself\u001b[39m\u001b[39m.\u001b[39mm):\n\u001b[1;32m     46\u001b[0m     \u001b[39m#get probability of choosing each node\u001b[39;00m\n\u001b[1;32m     47\u001b[0m     edge_starts, edge_ends \u001b[39m=\u001b[39m \u001b[39mzip\u001b[39m(\u001b[39m*\u001b[39m\u001b[39mself\u001b[39m\u001b[39m.\u001b[39m_edges)\n\u001b[0;32m---> 48\u001b[0m     p \u001b[39m=\u001b[39m [(\u001b[39mself\u001b[39m\u001b[39m.\u001b[39m_community_affinities[\u001b[39mself\u001b[39m\u001b[39m.\u001b[39m_vertex_communities[t],\u001b[39mself\u001b[39m\u001b[39m.\u001b[39m_vertex_communities[j]])\u001b[39m*\u001b[39m(edge_ends\u001b[39m.\u001b[39mcount(j) \u001b[39m+\u001b[39m edge_starts\u001b[39m.\u001b[39mcount(j)) \u001b[39mfor\u001b[39;00m j \u001b[39min\u001b[39;00m \u001b[39mself\u001b[39m\u001b[39m.\u001b[39m_vertices]\n\u001b[1;32m     49\u001b[0m     p \u001b[39m=\u001b[39m [i\u001b[39m/\u001b[39m\u001b[39msum\u001b[39m(p) \u001b[39mfor\u001b[39;00m i \u001b[39min\u001b[39;00m p]\n\u001b[1;32m     50\u001b[0m     \u001b[39m#choose node\u001b[39;00m\n",
      "\u001b[0;31mTypeError\u001b[0m: 'NoneType' object is not iterable"
     ]
    }
   ],
   "source": [
    "# plot adjacency matrix as a heatmap\n",
    "import seaborn as sns\n",
    "import matplotlib.pyplot as plt\n",
    "sns.heatmap(pam.adjacency_matrix)\n",
    "plt.show()\n"
   ]
  },
  {
   "cell_type": "code",
   "execution_count": null,
   "metadata": {},
   "outputs": [],
   "source": [
    "from clustering_algorithms.exponential_clustering import Exponential_Clustering"
   ]
  }
 ],
 "metadata": {
  "kernelspec": {
   "display_name": "Python 3",
   "language": "python",
   "name": "python3"
  },
  "language_info": {
   "codemirror_mode": {
    "name": "ipython",
    "version": 3
   },
   "file_extension": ".py",
   "mimetype": "text/x-python",
   "name": "python",
   "nbconvert_exporter": "python",
   "pygments_lexer": "ipython3",
   "version": "3.10.6"
  },
  "orig_nbformat": 4,
  "vscode": {
   "interpreter": {
    "hash": "916dbcbb3f70747c44a77c7bcd40155683ae19c65e1c03b4aa3499c5328201f1"
   }
  }
 },
 "nbformat": 4,
 "nbformat_minor": 2
}
